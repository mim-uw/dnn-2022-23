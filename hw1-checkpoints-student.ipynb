{
 "cells": [
  {
   "cell_type": "markdown",
   "source": [
    "# Checkpointing\n",
    "\n",
    "Your task is to implement checkpointing for a MLP using NumPy.\n",
    "\n",
    "You are free to use the implementation of a MLP and the backpropagation algorithm that you have developed during lab sessions.\n",
    "\n",
    "The key takeaway from this task is that with checkpointing we can trade off the computational resources needed to compute the forward pass of the network for the memory requirement needed to perform a backward pass in the network, which is often a major bottleneck when training large networks. In plain english, we can slightly increase the time required for training our network to save some of our GPU's precious memory.\n",
    "\n",
    "## What is checkpointing?\n",
    "\n",
    "The aim of checkpointing is to save every $n$-th layer's (e.g. every 2-nd layer's) forward result (instead of saving every layer's forward result as in plain backpropagation) and use these checkpoints for recomputing the forward pass of the network upon doing a backward pass. Checkpoint layers are kept in memory after the forward pass, while the remaining activations are recomputed at most once. After being recomputed, the non-checkpoint layers are kept in memory until they are no longer required."
   ],
   "metadata": {
    "collapsed": false
   }
  },
  {
   "cell_type": "markdown",
   "source": [
    "# What should be done\n",
    "\n",
    "1. Take the implementation a MLP trained with backpropagation. Analyze the algorithm with respect to the memory that is used by the algorithm with respect to the number of hidden layers.\n",
    "\n",
    "2. Implement a class NetworkWithCheckpointing that inherits from the Network class defined during lab sessions by:\n",
    "    a) implementing a method `forward_from_checkpoint` that will recompute the forward pass of the network using one of the checkpointed layers\n",
    "    b) override the method `backprop` to use only checkpointed layers and otherwise compute the activations using `forward_from_checkpoint` method and keep it in memory until no longer needed.\n",
    "\n",
    "3. Train your network with checkpoinintg on MNIST. Compare running times and memory usage with respect to the network without checkpointing.\n"
   ],
   "metadata": {
    "collapsed": false
   }
  },
  {
   "cell_type": "markdown",
   "source": [
    "# Implement Checkpointing for a MLP"
   ],
   "metadata": {
    "collapsed": false
   }
  },
  {
   "cell_type": "code",
   "execution_count": 1,
   "outputs": [],
   "source": [
    "import random\n",
    "import numpy as np\n",
    "from torchvision import datasets, transforms"
   ],
   "metadata": {
    "collapsed": false
   }
  },
  {
   "cell_type": "code",
   "execution_count": 2,
   "outputs": [
    {
     "name": "stdout",
     "output_type": "stream",
     "text": [
      "--2022-10-24 09:25:17--  https://s3.amazonaws.com/img-datasets/mnist.npz\r\n",
      "Resolving s3.amazonaws.com (s3.amazonaws.com)... 52.217.37.110\r\n",
      "Connecting to s3.amazonaws.com (s3.amazonaws.com)|52.217.37.110|:443... connected.\r\n",
      "HTTP request sent, awaiting response... 200 OK\r\n",
      "Length: 11490434 (11M) [application/octet-stream]\r\n",
      "Saving to: ‘mnist.npz’\r\n",
      "\r\n",
      "mnist.npz           100%[===================>]  10.96M  1.19MB/s    in 47s     \r\n",
      "\r\n",
      "2022-10-24 09:26:06 (238 KB/s) - ‘mnist.npz’ saved [11490434/11490434]\r\n",
      "\r\n"
     ]
    }
   ],
   "source": [
    "!wget -O mnist.npz https://s3.amazonaws.com/img-datasets/mnist.npz"
   ],
   "metadata": {
    "collapsed": false
   }
  },
  {
   "cell_type": "code",
   "execution_count": 3,
   "outputs": [],
   "source": [
    "# Let's read the mnist dataset\n",
    "\n",
    "def load_mnist(path='mnist.npz'):\n",
    "    with np.load(path) as f:\n",
    "        x_train, _y_train = f['x_train'], f['y_train']\n",
    "        x_test, _y_test = f['x_test'], f['y_test']\n",
    "\n",
    "    x_train = x_train.reshape(-1, 28 * 28) / 255.\n",
    "    x_test = x_test.reshape(-1, 28 * 28) / 255.\n",
    "\n",
    "    y_train = np.zeros((_y_train.shape[0], 10))\n",
    "    y_train[np.arange(_y_train.shape[0]), _y_train] = 1\n",
    "\n",
    "    y_test = np.zeros((_y_test.shape[0], 10))\n",
    "    y_test[np.arange(_y_test.shape[0]), _y_test] = 1\n",
    "\n",
    "    return (x_train, y_train), (x_test, y_test)\n",
    "\n",
    "(x_train, y_train), (x_test, y_test) = load_mnist()"
   ],
   "metadata": {
    "collapsed": false
   }
  },
  {
   "cell_type": "code",
   "execution_count": 121,
   "outputs": [],
   "source": [
    "class Network(object):\n",
    "    ######################################################################################\n",
    "    ### Your Implementation of a MLP with backpropagation implemented during tutorials ###\n",
    "    ######################################################################################\n",
    "    pass\n"
   ],
   "metadata": {
    "collapsed": false
   }
  },
  {
   "cell_type": "code",
   "execution_count": 164,
   "outputs": [],
   "source": [
    "class NetworkWithCheckpointing(Network):\n",
    "\n",
    "    def __init__(self, sizes, checkpoint_every_nth_layer: int = 0, *args, **kwargs):\n",
    "        super().__init__(sizes, *args, **kwargs)\n",
    "        ##########################\n",
    "        ### Your solution here ###\n",
    "        ##########################\n",
    "\n",
    "    def forward_between_checkpoints(self, a, checkpoint_idx_start, layer_idx_end):\n",
    "        ##########################\n",
    "        ### Your solution here ###\n",
    "        ##########################\n",
    "        pass\n",
    "\n",
    "    def backprop(self, x, y):\n",
    "        ##########################\n",
    "        ### Your solution here ###\n",
    "        ##########################\n",
    "        pass\n"
   ],
   "metadata": {
    "collapsed": false
   }
  }
 ],
 "metadata": {
  "kernelspec": {
   "display_name": "Python 3",
   "language": "python",
   "name": "python3"
  },
  "language_info": {
   "codemirror_mode": {
    "name": "ipython",
    "version": 2
   },
   "file_extension": ".py",
   "mimetype": "text/x-python",
   "name": "python",
   "nbconvert_exporter": "python",
   "pygments_lexer": "ipython2",
   "version": "2.7.6"
  }
 },
 "nbformat": 4,
 "nbformat_minor": 0
}
